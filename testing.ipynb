{
 "cells": [
  {
   "cell_type": "code",
   "execution_count": 1,
   "metadata": {
    "collapsed": false,
    "deletable": true,
    "editable": true
   },
   "outputs": [],
   "source": [
    "import matplotlib.pyplot as plt\n",
    "%matplotlib inline\n",
    "\n",
    "import torch\n",
    "import torch.autograd as autograd\n",
    "import numpy as np\n",
    "import pandas as pd\n",
    "from PIL import Image, ImageDraw\n",
    "\n",
    "from src.region_proposal import RegionProposalNetwork\n",
    "from src.smooth_l1_loss import SmoothL1LossFunc\n",
    "from src.generate_anchors import generate_anchors\n",
    "from src.generate_anchor_data import AnchorDataGenerator"
   ]
  },
  {
   "cell_type": "code",
   "execution_count": 2,
   "metadata": {
    "collapsed": false,
    "deletable": true,
    "editable": true
   },
   "outputs": [],
   "source": [
    "image = Image.open(\"data/JPEGImages/2010_006023.jpg\")\n",
    "image_a = np.asarray(image).astype(np.float32).transpose(2, 0, 1)\n",
    "image_a = image_a[np.newaxis, :]\n",
    "input = autograd.Variable(torch.Tensor(image_a))\n",
    "im_w, im_h = autograd.Variable(torch.Tensor([image_a.shape[3]])), autograd.Variable(torch.Tensor([image_a.shape[2]]))"
   ]
  },
  {
   "cell_type": "code",
   "execution_count": 3,
   "metadata": {
    "collapsed": false
   },
   "outputs": [],
   "source": [
    "gt_df = pd.read_csv(\"data/Preprocess/Annotations/2010_006023.jpg.csv\")\n",
    "gt = gt_df.as_matrix()\n",
    "gt_boxes = gt[:, 0:4]\n",
    "gt_boxes = autograd.Variable(torch.Tensor(gt_boxes))"
   ]
  },
  {
   "cell_type": "code",
   "execution_count": 4,
   "metadata": {
    "collapsed": true
   },
   "outputs": [],
   "source": [
    "rpn = RegionProposalNetwork()\n",
    "anchor_generator = AnchorDataGenerator()"
   ]
  },
  {
   "cell_type": "code",
   "execution_count": 5,
   "metadata": {
    "collapsed": true
   },
   "outputs": [],
   "source": [
    "obj_scores, regressions = rpn(input)"
   ]
  },
  {
   "cell_type": "code",
   "execution_count": 6,
   "metadata": {
    "collapsed": false
   },
   "outputs": [
    {
     "name": "stdout",
     "output_type": "stream",
     "text": [
      "132\n"
     ]
    }
   ],
   "source": [
    "anchors, labels, bbox_target, bbox_weights = anchor_generator(obj_scores, gt_boxes, im_w, im_h)\n",
    "anchors = anchors.data.numpy()\n",
    "labels = labels.data.numpy()\n",
    "bbox_target = bbox_target.data.numpy()\n",
    "bbox_weights = bbox_weights.data.numpy()"
   ]
  },
  {
   "cell_type": "code",
   "execution_count": 7,
   "metadata": {
    "collapsed": false
   },
   "outputs": [],
   "source": [
    "image_draw = ImageDraw.Draw(image)"
   ]
  },
  {
   "cell_type": "code",
   "execution_count": 8,
   "metadata": {
    "collapsed": false
   },
   "outputs": [],
   "source": [
    "for i in range(gt_boxes.size(0)):\n",
    "    image_draw.rectangle(gt_boxes.data.numpy()[i, :].tolist(), outline=\"white\")"
   ]
  },
  {
   "cell_type": "code",
   "execution_count": 9,
   "metadata": {
    "collapsed": false
   },
   "outputs": [],
   "source": [
    "_labels = labels.reshape(1, 9, obj_scores.size(2), obj_scores.size(3)).transpose(0, 2, 3, 1).ravel()\n",
    "fg_anchors = anchors[_labels == 1.0, :]\n",
    "bg_anchors = anchors[_labels == 0.0, :]\n",
    "\n",
    "for i in range(fg_anchors.shape[0]):\n",
    "       image_draw.rectangle(fg_anchors[i, :].tolist(), outline=\"blue\")"
   ]
  }
 ],
 "metadata": {
  "kernelspec": {
   "display_name": "Python 2",
   "language": "python",
   "name": "python2"
  },
  "language_info": {
   "codemirror_mode": {
    "name": "ipython",
    "version": 2
   },
   "file_extension": ".py",
   "mimetype": "text/x-python",
   "name": "python",
   "nbconvert_exporter": "python",
   "pygments_lexer": "ipython2",
   "version": "2.7.13"
  }
 },
 "nbformat": 4,
 "nbformat_minor": 2
}
