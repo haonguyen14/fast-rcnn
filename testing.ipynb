{
 "cells": [
  {
   "cell_type": "code",
   "execution_count": 83,
   "metadata": {
    "collapsed": true,
    "deletable": true,
    "editable": true
   },
   "outputs": [],
   "source": [
    "import matplotlib.pyplot as plt\n",
    "%matplotlib inline\n",
    "\n",
    "from PIL import Image, ImageDraw\n",
    "from torch.utils.data import DataLoader\n",
    "from torch.autograd import Variable\n",
    "import torch.optim as opt\n",
    "import torch.nn as nn\n",
    "import torch\n",
    "\n",
    "import numpy as np\n",
    "from src.voc_dataset import *\n",
    "from src.region_proposal import RegionProposalNetwork, get_target_weights\n",
    "from src.generate_anchor_data import AnchorDataGenerator\n",
    "from src.generate_anchors import generate_anchors\n",
    "from src.anchor_util import generate_all_anchors\n",
    "from src.proposal import ProposalGenerator\n",
    "\n",
    "import pickle"
   ]
  },
  {
   "cell_type": "code",
   "execution_count": 69,
   "metadata": {
    "collapsed": true,
    "deletable": true,
    "editable": true
   },
   "outputs": [],
   "source": [
    "dataset = VOCDataSet(\"data/\", \"train\", include_gt_lable=True)\n",
    "dataloader = DataLoader(dataset, batch_size=1, shuffle=True, num_workers=5, collate_fn=collate_fn)\n",
    "iterator = iter(dataloader)"
   ]
  },
  {
   "cell_type": "code",
   "execution_count": 140,
   "metadata": {
    "collapsed": false,
    "deletable": true,
    "editable": true
   },
   "outputs": [],
   "source": [
    "rpn = RegionProposalNetwork().cuda()\n",
    "anchor_generator = AnchorDataGenerator().cuda()\n",
    "log_softmax_func = nn.LogSoftmax().cuda()\n",
    "nll_loss_func = nn.NLLLoss2d(weight=get_target_weights(), size_average=False).cuda()\n",
    "regression_loss_func = nn.SmoothL1Loss(size_average=False).cuda()\n",
    "\n",
    "optimizer = opt.SGD(\n",
    "         rpn.parameters(),\n",
    "         lr=0.001,\n",
    "         momentum=0.9,\n",
    "         weight_decay=0.0005,\n",
    "     )"
   ]
  },
  {
   "cell_type": "code",
   "execution_count": 146,
   "metadata": {
    "collapsed": false,
    "deletable": true,
    "editable": true
   },
   "outputs": [],
   "source": [
    "a = []\n",
    "for i in range(200):    \n",
    "    image_arr, gt, labels = iterator.next()\n",
    "    image_arr = Variable(image_arr).cuda()\n",
    "    gt = Variable(gt)\n",
    "    logits, regressions = rpn(image_arr)\n",
    "\n",
    "    width = Variable(torch.Tensor([logits.size(3)]))\n",
    "    height = Variable(torch.Tensor([logits.size(2)]))\n",
    "    im_w = Variable(torch.Tensor([image_arr.size(3)]))\n",
    "    im_h = Variable(torch.Tensor([image_arr.size(2)]))\n",
    "\n",
    "    labels, bbox_targets, bbox_inside_weights, regression_norm = \\\n",
    "                    anchor_generator(width, height, gt, im_w, im_h)\n",
    "\n",
    "    logits = logits.view(1, 2, 9 * logits.size(2), logits.size(3))\n",
    "    labels = labels.view(1, labels.size(2), labels.size(3)).cuda()\n",
    "    bbox_inside_weights = bbox_inside_weights.cuda()\n",
    "    bbox_targets = bbox_targets.cuda()\n",
    "    regression_norm = regression_norm.cuda()\n",
    "\n",
    "    log_softmax = log_softmax_func(logits)\n",
    "    log_softmax = torch.cat(\n",
    "        (\n",
    "            log_softmax,\n",
    "            Variable(torch.zeros([1, 1, log_softmax.size(2), log_softmax.size(3)])).cuda()\n",
    "        ), 1)\n",
    "    nll_loss = nll_loss_func(log_softmax, labels) / 256.\n",
    "\n",
    "    regressions = torch.mul(regressions, bbox_inside_weights)\n",
    "    bbox_targets = torch.mul(bbox_targets, bbox_inside_weights)\n",
    "    regression_loss = regression_loss_func(regressions, bbox_targets) * (regression_norm + 1e-4)\n",
    "\n",
    "    loss = nll_loss + regression_loss\n",
    "    loss.backward()\n",
    "\n",
    "    l = []\n",
    "    for m in rpn.modules():\n",
    "        if isinstance(m, nn.Conv2d):\n",
    "            l.append(m.weight.grad.data.norm())\n",
    "        elif isinstance(m, nn.Linear):\n",
    "            l.append(m.weight.grad.data.norm())\n",
    "    a.append(l[-1])"
   ]
  },
  {
   "cell_type": "code",
   "execution_count": 144,
   "metadata": {
    "collapsed": false,
    "deletable": true,
    "editable": true
   },
   "outputs": [
    {
     "data": {
      "text/plain": [
       "[<matplotlib.lines.Line2D at 0x7f9450ef2990>]"
      ]
     },
     "execution_count": 144,
     "metadata": {},
     "output_type": "execute_result"
    },
    {
     "data": {
      "image/png": "[encoded data removed]",
      "text/plain": [
       "<matplotlib.figure.Figure at 0x7f94512aff10>"
      ]
     },
     "metadata": {},
     "output_type": "display_data"
    }
   ],
   "source": [
    "plt.plot(np.arange(0, 100), a)"
   ]
  },
  {
   "cell_type": "code",
   "execution_count": null,
   "metadata": {
    "collapsed": true,
    "deletable": true,
    "editable": true
   },
   "outputs": [],
   "source": []
  }
 ],
 "metadata": {
  "kernelspec": {
   "display_name": "Python 2",
   "language": "python",
   "name": "python2"
  },
  "language_info": {
   "codemirror_mode": {
    "name": "ipython",
    "version": 2
   },
   "file_extension": ".py",
   "mimetype": "text/x-python",
   "name": "python",
   "nbconvert_exporter": "python",
   "pygments_lexer": "ipython2",
   "version": "2.7.13"
  }
 },
 "nbformat": 4,
 "nbformat_minor": 2
}
