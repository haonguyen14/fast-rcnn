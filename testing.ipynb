{
 "cells": [
  {
   "cell_type": "code",
   "execution_count": 1,
   "metadata": {
    "collapsed": true,
    "deletable": true,
    "editable": true
   },
   "outputs": [],
   "source": [
    "import matplotlib.pyplot as plt\n",
    "%matplotlib inline\n",
    "\n",
    "import cv2\n",
    "from torch.utils.data import DataLoader\n",
    "from torch.autograd import Variable\n",
    "import torch.optim as opt\n",
    "import torch.nn as nn\n",
    "import torch\n",
    "from torchvision.models import vgg16\n",
    "\n",
    "import numpy as np\n",
    "from src.voc_dataset import *\n",
    "from src.region_proposal import RegionProposalNetwork, get_target_weights\n",
    "from src.generate_anchor_data import AnchorDataGenerator\n",
    "from src.generate_anchors import generate_anchors\n",
    "from src.anchor_util import generate_all_anchors\n",
    "from src.proposal import ProposalGenerator\n",
    "\n",
    "import pickle\n",
    "from os import listdir\n",
    "from os.path import join"
   ]
  },
  {
   "cell_type": "code",
   "execution_count": null,
   "metadata": {
    "collapsed": true,
    "deletable": true,
    "editable": true
   },
   "outputs": [],
   "source": []
  }
 ],
 "metadata": {
  "kernelspec": {
   "display_name": "Python 2",
   "language": "python",
   "name": "python2"
  },
  "language_info": {
   "codemirror_mode": {
    "name": "ipython",
    "version": 2
   },
   "file_extension": ".py",
   "mimetype": "text/x-python",
   "name": "python",
   "nbconvert_exporter": "python",
   "pygments_lexer": "ipython2",
   "version": "2.7.13"
  }
 },
 "nbformat": 4,
 "nbformat_minor": 2
}
