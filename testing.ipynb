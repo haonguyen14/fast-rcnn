{
 "cells": [
  {
   "cell_type": "code",
   "execution_count": 1,
   "metadata": {
    "collapsed": false,
    "deletable": true,
    "editable": true
   },
   "outputs": [],
   "source": [
    "import matplotlib.pyplot as plt\n",
    "%matplotlib inline\n",
    "\n",
    "import torch\n",
    "import torch.autograd as autograd\n",
    "import numpy as np\n",
    "import numpy.random as npr\n",
    "import pandas as pd\n",
    "from PIL import Image, ImageDraw\n",
    "\n",
    "from src.region_proposal import RegionProposalNetwork, get_target_weights\n",
    "from src.smooth_l1_loss import SmoothL1LossFunc\n",
    "from src.generate_anchors import generate_anchors\n",
    "from src.generate_anchor_data import AnchorDataGenerator"
   ]
  },
  {
   "cell_type": "code",
   "execution_count": 2,
   "metadata": {
    "collapsed": false,
    "deletable": true,
    "editable": true
   },
   "outputs": [],
   "source": [
    "image = Image.open(\"data/JPEGImages/2010_006023.jpg\")\n",
    "image_a = np.asarray(image).astype(np.float32).transpose(2, 0, 1)\n",
    "image_a = image_a[np.newaxis, :]\n",
    "input = autograd.Variable(torch.Tensor(image_a))\n",
    "im_w, im_h = autograd.Variable(torch.Tensor([image_a.shape[3]])), autograd.Variable(torch.Tensor([image_a.shape[2]]))"
   ]
  },
  {
   "cell_type": "code",
   "execution_count": 3,
   "metadata": {
    "collapsed": false,
    "deletable": true,
    "editable": true
   },
   "outputs": [],
   "source": [
    "gt_df = pd.read_csv(\"data/Preprocess/Annotations/2010_006023.jpg.csv\")\n",
    "gt = gt_df.as_matrix()\n",
    "gt_boxes = gt[:, 0:4]\n",
    "gt_boxes = autograd.Variable(torch.Tensor(gt_boxes))"
   ]
  },
  {
   "cell_type": "code",
   "execution_count": 4,
   "metadata": {
    "collapsed": false,
    "deletable": true,
    "editable": true
   },
   "outputs": [],
   "source": [
    "rpn = RegionProposalNetwork()\n",
    "anchor_generator = AnchorDataGenerator()\n",
    "log_softmax = torch.nn.LogSoftmax()\n",
    "nll_loss = torch.nn.NLLLoss2d(weight=get_target_weights())"
   ]
  },
  {
   "cell_type": "code",
   "execution_count": 5,
   "metadata": {
    "collapsed": false,
    "deletable": true,
    "editable": true
   },
   "outputs": [],
   "source": [
    "obj_scores, regressions = rpn(input)\n",
    "labels, bbox_target, bbox_weights = anchor_generator(obj_scores, gt_boxes, im_w, im_h)\n",
    "\n",
    "obj_scores = obj_scores.resize(1, 2, 9*obj_scores.size(2), obj_scores.size(3))\n",
    "labels = labels.resize(1, labels.size(2), labels.size(3))"
   ]
  },
  {
   "cell_type": "code",
   "execution_count": 8,
   "metadata": {
    "collapsed": false,
    "deletable": true,
    "editable": true
   },
   "outputs": [],
   "source": [
    "scores = log_softmax(obj_scores)\n",
    "scores = torch.cat((scores, autograd.Variable(torch.zeros([1, 1, obj_scores.size(2), obj_scores.size(3)]))), 1)"
   ]
  },
  {
   "cell_type": "code",
   "execution_count": 15,
   "metadata": {
    "collapsed": false
   },
   "outputs": [],
   "source": [
    "loss = nll_loss(scores, labels)"
   ]
  },
  {
   "cell_type": "code",
   "execution_count": 16,
   "metadata": {
    "collapsed": false
   },
   "outputs": [
    {
     "data": {
      "text/plain": [
       "Variable containing:\n",
       " 3.4918\n",
       "[torch.FloatTensor of size 1]"
      ]
     },
     "execution_count": 16,
     "metadata": {},
     "output_type": "execute_result"
    }
   ],
   "source": [
    "loss"
   ]
  },
  {
   "cell_type": "code",
   "execution_count": null,
   "metadata": {
    "collapsed": true
   },
   "outputs": [],
   "source": []
  }
 ],
 "metadata": {
  "kernelspec": {
   "display_name": "Python 2",
   "language": "python",
   "name": "python2"
  },
  "language_info": {
   "codemirror_mode": {
    "name": "ipython",
    "version": 2
   },
   "file_extension": ".py",
   "mimetype": "text/x-python",
   "name": "python",
   "nbconvert_exporter": "python",
   "pygments_lexer": "ipython2",
   "version": "2.7.13"
  }
 },
 "nbformat": 4,
 "nbformat_minor": 2
}
